{
 "cells": [
  {
   "cell_type": "code",
   "execution_count": 2,
   "metadata": {},
   "outputs": [],
   "source": [
    "import os"
   ]
  },
  {
   "cell_type": "code",
   "execution_count": 3,
   "metadata": {},
   "outputs": [
    {
     "data": {
      "text/plain": [
       "'e:\\\\NLP-Text-Summarization\\\\research'"
      ]
     },
     "execution_count": 3,
     "metadata": {},
     "output_type": "execute_result"
    }
   ],
   "source": [
    "%pwd"
   ]
  },
  {
   "cell_type": "code",
   "execution_count": 4,
   "metadata": {},
   "outputs": [],
   "source": [
    "os.chdir('../')"
   ]
  },
  {
   "cell_type": "code",
   "execution_count": 5,
   "metadata": {},
   "outputs": [
    {
     "data": {
      "text/plain": [
       "'e:\\\\NLP-Text-Summarization'"
      ]
     },
     "execution_count": 5,
     "metadata": {},
     "output_type": "execute_result"
    }
   ],
   "source": [
    "%pwd"
   ]
  },
  {
   "cell_type": "code",
   "execution_count": 7,
   "metadata": {},
   "outputs": [],
   "source": [
    "from dataclasses import dataclass\n",
    "from pathlib import Path\n",
    "\n",
    "@dataclass(frozen=True)\n",
    "class DataIngestionConfig:\n",
    "    root_dir:Path\n",
    "    source_dir:Path\n",
    "    data_dir:Path"
   ]
  },
  {
   "cell_type": "code",
   "execution_count": 8,
   "metadata": {},
   "outputs": [],
   "source": [
    "from src.NLP_project.utils.common import create_directories,read_yaml\n",
    "from src.NLP_project.constants import *"
   ]
  },
  {
   "cell_type": "code",
   "execution_count": 9,
   "metadata": {},
   "outputs": [],
   "source": [
    "class Configuration:\n",
    "    def __init__(self,config=config_path_file,params=params_path_file):\n",
    "        self.config=read_yaml(config)\n",
    "        self.params=read_yaml(params)\n",
    "\n",
    "        create_directories([self.config.Artifacts])\n",
    "\n",
    "    def get_the_data_config(self)->DataIngestionConfig:\n",
    "        ingestion=self.config.Data_ingestion\n",
    "\n",
    "        create_directories([ingestion.source_dir,ingestion.data_dir])\n",
    "\n",
    "        data_ingestion=DataIngestionConfig(\n",
    "            root_dir=ingestion.root_dir,\n",
    "            source_dir=ingestion.source_dir,\n",
    "            data_dir=ingestion.data_dir)\n",
    "        return data_ingestion\n"
   ]
  },
  {
   "cell_type": "code",
   "execution_count": 10,
   "metadata": {},
   "outputs": [],
   "source": [
    "from src.NLP_project.utils.common import  copy_file\n",
    "from src.NLP_project import logger"
   ]
  },
  {
   "cell_type": "code",
   "execution_count": 13,
   "metadata": {},
   "outputs": [],
   "source": [
    "class DataIngestion:\n",
    "    def __init__(self,config):\n",
    "        self.config=config\n",
    "\n",
    "    def get_the_data(self):\n",
    "\n",
    "        copy_file(source_path=self.config.source_dir,destination_path=self.config.data_dir)\n",
    "\n",
    "        logger.info(\"data_ingestion completed\")\n",
    "    "
   ]
  },
  {
   "cell_type": "code",
   "execution_count": 14,
   "metadata": {},
   "outputs": [
    {
     "name": "stdout",
     "output_type": "stream",
     "text": [
      "[2023-09-04 18:06:40,890 - INFO - yaml file: config\\config.yaml loaded successfully]\n",
      "[2023-09-04 18:06:40,895 - INFO - yaml file: params.yaml loaded successfully]\n",
      "[2023-09-04 18:06:40,902 - INFO - created directory at: artifacts]\n",
      "[2023-09-04 18:06:40,905 - INFO - created directory at: Data book\\Summerizing_data]\n",
      "[2023-09-04 18:06:40,908 - INFO - created directory at: artifacts/data_ingestion/Summarizer_data]\n",
      "An error occurred: [Errno 13] Permission denied: 'Data book\\\\Summerizing_data'\n",
      "[2023-09-04 18:06:40,914 - INFO - data_ingestion completed]\n"
     ]
    }
   ],
   "source": [
    "\n",
    "try:\n",
    "    config_data=Configuration()\n",
    "    data_ingestion_config=config_data.get_the_data_config()\n",
    "\n",
    "    ingestion=DataIngestion(data_ingestion_config)\n",
    "    ingestion.get_the_data()\n",
    "except Exception as e:\n",
    "    raise e\n"
   ]
  }
 ],
 "metadata": {
  "kernelspec": {
   "display_name": "TEXTS",
   "language": "python",
   "name": "python3"
  },
  "language_info": {
   "codemirror_mode": {
    "name": "ipython",
    "version": 3
   },
   "file_extension": ".py",
   "mimetype": "text/x-python",
   "name": "python",
   "nbconvert_exporter": "python",
   "pygments_lexer": "ipython3",
   "version": "3.8.17"
  },
  "orig_nbformat": 4
 },
 "nbformat": 4,
 "nbformat_minor": 2
}
