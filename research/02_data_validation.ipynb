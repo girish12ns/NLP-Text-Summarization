{
 "cells": [
  {
   "cell_type": "code",
   "execution_count": 65,
   "metadata": {},
   "outputs": [],
   "source": [
    "import os"
   ]
  },
  {
   "cell_type": "code",
   "execution_count": 66,
   "metadata": {},
   "outputs": [
    {
     "data": {
      "text/plain": [
       "'e:\\\\NLP-Text-Summarization'"
      ]
     },
     "execution_count": 66,
     "metadata": {},
     "output_type": "execute_result"
    }
   ],
   "source": [
    "%pwd"
   ]
  },
  {
   "cell_type": "code",
   "execution_count": 3,
   "metadata": {},
   "outputs": [],
   "source": [
    "os.chdir('../')"
   ]
  },
  {
   "cell_type": "code",
   "execution_count": 67,
   "metadata": {},
   "outputs": [
    {
     "data": {
      "text/plain": [
       "'e:\\\\NLP-Text-Summarization'"
      ]
     },
     "execution_count": 67,
     "metadata": {},
     "output_type": "execute_result"
    }
   ],
   "source": [
    "%pwd"
   ]
  },
  {
   "cell_type": "code",
   "execution_count": 77,
   "metadata": {},
   "outputs": [],
   "source": [
    "from pathlib import Path\n",
    "from dataclasses import dataclass\n",
    "\n",
    "@dataclass(frozen=True)\n",
    "class DataValidationConfig:\n",
    "    root_dir:Path\n",
    "    STATUS_FILE :str\n",
    "    ALL_REQUIRES_FILES  :list"
   ]
  },
  {
   "cell_type": "code",
   "execution_count": 78,
   "metadata": {},
   "outputs": [],
   "source": [
    "from src.NLP_project.utils.common import create_directories,read_yaml\n",
    "from src.NLP_project.constants import *"
   ]
  },
  {
   "cell_type": "code",
   "execution_count": 80,
   "metadata": {},
   "outputs": [],
   "source": [
    "class Configuration:\n",
    "    def __init__(self,config=config_path_file,params=params_path_file):\n",
    "        self.config=read_yaml(config)\n",
    "        self.params=read_yaml(params)\n",
    "\n",
    "        create_directories([self.config.Artifacts])\n",
    "\n",
    "    def data_validation_done_config(self)->DataValidationConfig:\n",
    "        validation=self.config.Data_validataion\n",
    "\n",
    "        create_directories([validation.root_dir])\n",
    "\n",
    "        data_validation=DataValidationConfig(\n",
    "            root_dir=validation.root_dir,\n",
    "            STATUS_FILE=validation.STATUS_FILE,\n",
    "            ALL_REQUIRES_FILES=validation.ALL_REQUIRES_FILES\n",
    "        )\n",
    "        return data_validation"
   ]
  },
  {
   "cell_type": "code",
   "execution_count": 81,
   "metadata": {},
   "outputs": [],
   "source": [
    "class Data_Validation:\n",
    "    def __init__(self,config):\n",
    "        self.config=config\n",
    "\n",
    "    def check_data_validation_files(self)->bool:\n",
    "        validation=None\n",
    "\n",
    "        all_files=os.listdir(os.path.join('artifacts','data_ingestion','Summarizer_data','Summerizing_data','samsum_dataset'))\n",
    "        \n",
    "        for file in all_files:\n",
    "            if file not in self.config.ALL_REQUIRES_FILES:\n",
    "                validation=False\n",
    "                with open(self.config.STATUS_FILE,\"w\") as f:\n",
    "                    f.write(\"validation_status:{}\".format(validation))\n",
    "            else:\n",
    "                validation=True\n",
    "                with open(self.config.STATUS_FILE,\"w\") as f:\n",
    "                    f.write(\"validation_status:{}\".format(validation))\n",
    "        return validation\n",
    "    "
   ]
  },
  {
   "cell_type": "code",
   "execution_count": 82,
   "metadata": {},
   "outputs": [
    {
     "name": "stdout",
     "output_type": "stream",
     "text": [
      "[2023-09-04 20:15:43,720 - INFO - yaml file: config\\config.yaml loaded successfully]\n",
      "[2023-09-04 20:15:43,725 - INFO - yaml file: params.yaml loaded successfully]\n",
      "[2023-09-04 20:15:43,731 - INFO - created directory at: artifacts]\n",
      "[2023-09-04 20:15:43,734 - INFO - created directory at: artifacts/data_validation]\n"
     ]
    }
   ],
   "source": [
    "try:\n",
    "    validation_config=Configuration()\n",
    "    val_config=validation_config.data_validation_done_config()\n",
    "\n",
    "    val=Data_Validation(val_config)\n",
    "    val.check_data_validation_files()\n",
    "except Exception as e:\n",
    "    raise e"
   ]
  }
 ],
 "metadata": {
  "kernelspec": {
   "display_name": "TEXTS",
   "language": "python",
   "name": "python3"
  },
  "language_info": {
   "codemirror_mode": {
    "name": "ipython",
    "version": 3
   },
   "file_extension": ".py",
   "mimetype": "text/x-python",
   "name": "python",
   "nbconvert_exporter": "python",
   "pygments_lexer": "ipython3",
   "version": "3.8.17"
  },
  "orig_nbformat": 4
 },
 "nbformat": 4,
 "nbformat_minor": 2
}
